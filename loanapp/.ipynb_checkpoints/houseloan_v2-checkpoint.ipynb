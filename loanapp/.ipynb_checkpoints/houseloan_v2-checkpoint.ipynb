{
 "cells": [
  {
   "cell_type": "code",
   "execution_count": 1,
   "metadata": {
    "collapsed": false
   },
   "outputs": [
    {
     "name": "stderr",
     "output_type": "stream",
     "text": [
      "/Users/mingyuzhu/git/venv/lib/python2.7/site-packages/matplotlib/font_manager.py:273: UserWarning: Matplotlib is building the font cache using fc-list. This may take a moment.\n",
      "  warnings.warn('Matplotlib is building the font cache using fc-list. This may take a moment.')\n"
     ]
    },
    {
     "data": {
      "text/html": [
       "<div>\n",
       "<table border=\"1\" class=\"dataframe\">\n",
       "  <thead>\n",
       "    <tr style=\"text-align: right;\">\n",
       "      <th></th>\n",
       "      <th>Loan_ID</th>\n",
       "      <th>Gender</th>\n",
       "      <th>Married</th>\n",
       "      <th>Dependents</th>\n",
       "      <th>Education</th>\n",
       "      <th>Self_Employed</th>\n",
       "      <th>ApplicantIncome</th>\n",
       "      <th>CoapplicantIncome</th>\n",
       "      <th>LoanAmount</th>\n",
       "      <th>Loan_Amount_Term</th>\n",
       "      <th>Credit_History</th>\n",
       "      <th>Property_Area</th>\n",
       "      <th>Loan_Status</th>\n",
       "    </tr>\n",
       "  </thead>\n",
       "  <tbody>\n",
       "    <tr>\n",
       "      <th>0</th>\n",
       "      <td>LP001002</td>\n",
       "      <td>Male</td>\n",
       "      <td>No</td>\n",
       "      <td>0</td>\n",
       "      <td>Graduate</td>\n",
       "      <td>No</td>\n",
       "      <td>5849</td>\n",
       "      <td>0.0</td>\n",
       "      <td>NaN</td>\n",
       "      <td>360.0</td>\n",
       "      <td>1.0</td>\n",
       "      <td>Urban</td>\n",
       "      <td>Y</td>\n",
       "    </tr>\n",
       "    <tr>\n",
       "      <th>1</th>\n",
       "      <td>LP001003</td>\n",
       "      <td>Male</td>\n",
       "      <td>Yes</td>\n",
       "      <td>1</td>\n",
       "      <td>Graduate</td>\n",
       "      <td>No</td>\n",
       "      <td>4583</td>\n",
       "      <td>1508.0</td>\n",
       "      <td>128.0</td>\n",
       "      <td>360.0</td>\n",
       "      <td>1.0</td>\n",
       "      <td>Rural</td>\n",
       "      <td>N</td>\n",
       "    </tr>\n",
       "    <tr>\n",
       "      <th>2</th>\n",
       "      <td>LP001005</td>\n",
       "      <td>Male</td>\n",
       "      <td>Yes</td>\n",
       "      <td>0</td>\n",
       "      <td>Graduate</td>\n",
       "      <td>Yes</td>\n",
       "      <td>3000</td>\n",
       "      <td>0.0</td>\n",
       "      <td>66.0</td>\n",
       "      <td>360.0</td>\n",
       "      <td>1.0</td>\n",
       "      <td>Urban</td>\n",
       "      <td>Y</td>\n",
       "    </tr>\n",
       "    <tr>\n",
       "      <th>3</th>\n",
       "      <td>LP001006</td>\n",
       "      <td>Male</td>\n",
       "      <td>Yes</td>\n",
       "      <td>0</td>\n",
       "      <td>Not Graduate</td>\n",
       "      <td>No</td>\n",
       "      <td>2583</td>\n",
       "      <td>2358.0</td>\n",
       "      <td>120.0</td>\n",
       "      <td>360.0</td>\n",
       "      <td>1.0</td>\n",
       "      <td>Urban</td>\n",
       "      <td>Y</td>\n",
       "    </tr>\n",
       "    <tr>\n",
       "      <th>4</th>\n",
       "      <td>LP001008</td>\n",
       "      <td>Male</td>\n",
       "      <td>No</td>\n",
       "      <td>0</td>\n",
       "      <td>Graduate</td>\n",
       "      <td>No</td>\n",
       "      <td>6000</td>\n",
       "      <td>0.0</td>\n",
       "      <td>141.0</td>\n",
       "      <td>360.0</td>\n",
       "      <td>1.0</td>\n",
       "      <td>Urban</td>\n",
       "      <td>Y</td>\n",
       "    </tr>\n",
       "  </tbody>\n",
       "</table>\n",
       "</div>"
      ],
      "text/plain": [
       "    Loan_ID Gender Married Dependents     Education Self_Employed  \\\n",
       "0  LP001002   Male      No          0      Graduate            No   \n",
       "1  LP001003   Male     Yes          1      Graduate            No   \n",
       "2  LP001005   Male     Yes          0      Graduate           Yes   \n",
       "3  LP001006   Male     Yes          0  Not Graduate            No   \n",
       "4  LP001008   Male      No          0      Graduate            No   \n",
       "\n",
       "   ApplicantIncome  CoapplicantIncome  LoanAmount  Loan_Amount_Term  \\\n",
       "0             5849                0.0         NaN             360.0   \n",
       "1             4583             1508.0       128.0             360.0   \n",
       "2             3000                0.0        66.0             360.0   \n",
       "3             2583             2358.0       120.0             360.0   \n",
       "4             6000                0.0       141.0             360.0   \n",
       "\n",
       "   Credit_History Property_Area Loan_Status  \n",
       "0             1.0         Urban           Y  \n",
       "1             1.0         Rural           N  \n",
       "2             1.0         Urban           Y  \n",
       "3             1.0         Urban           Y  \n",
       "4             1.0         Urban           Y  "
      ]
     },
     "execution_count": 1,
     "metadata": {},
     "output_type": "execute_result"
    }
   ],
   "source": [
    "# coding: utf-8\n",
    "\n",
    "# reference: https://www.analyticsvidhya.com/blog/\\\n",
    "# 2016/01/complete-tutorial-learn-data-science-python-scratch-2/\n",
    "\n",
    "# version = 0.2, date 9/30/2016\n",
    "\n",
    "import numpy as np\n",
    "import pandas as pd\n",
    "\n",
    "import matplotlib.pyplot as plt\n",
    "import matplotlib\n",
    "matplotlib.style.use('ggplot')\n",
    "get_ipython().magic(u'matplotlib inline')\n",
    "\n",
    "\n",
    "df = pd.read_csv('./data/train.csv')\n",
    "test_df = pd.read_csv('./data/test.csv')\n",
    "\n",
    "\n",
    "df.head(5)\n"
   ]
  },
  {
   "cell_type": "code",
   "execution_count": 2,
   "metadata": {
    "collapsed": false
   },
   "outputs": [
    {
     "data": {
      "text/plain": [
       "Loan_ID               object\n",
       "Gender                object\n",
       "Married               object\n",
       "Dependents            object\n",
       "Education             object\n",
       "Self_Employed         object\n",
       "ApplicantIncome        int64\n",
       "CoapplicantIncome    float64\n",
       "LoanAmount           float64\n",
       "Loan_Amount_Term     float64\n",
       "Credit_History       float64\n",
       "Property_Area         object\n",
       "Loan_Status           object\n",
       "dtype: object"
      ]
     },
     "execution_count": 2,
     "metadata": {},
     "output_type": "execute_result"
    }
   ],
   "source": [
    "# let's find out the data types of each column\n",
    "df.dtypes"
   ]
  },
  {
   "cell_type": "code",
   "execution_count": 3,
   "metadata": {
    "collapsed": false
   },
   "outputs": [
    {
     "name": "stderr",
     "output_type": "stream",
     "text": [
      "/Users/mingyuzhu/git/venv/lib/python2.7/site-packages/numpy/lib/function_base.py:3834: RuntimeWarning: Invalid value encountered in percentile\n",
      "  RuntimeWarning)\n"
     ]
    },
    {
     "data": {
      "text/html": [
       "<div>\n",
       "<table border=\"1\" class=\"dataframe\">\n",
       "  <thead>\n",
       "    <tr style=\"text-align: right;\">\n",
       "      <th></th>\n",
       "      <th>ApplicantIncome</th>\n",
       "      <th>CoapplicantIncome</th>\n",
       "      <th>LoanAmount</th>\n",
       "      <th>Loan_Amount_Term</th>\n",
       "      <th>Credit_History</th>\n",
       "    </tr>\n",
       "  </thead>\n",
       "  <tbody>\n",
       "    <tr>\n",
       "      <th>count</th>\n",
       "      <td>614.000000</td>\n",
       "      <td>614.000000</td>\n",
       "      <td>592.000000</td>\n",
       "      <td>600.00000</td>\n",
       "      <td>564.000000</td>\n",
       "    </tr>\n",
       "    <tr>\n",
       "      <th>mean</th>\n",
       "      <td>5403.459283</td>\n",
       "      <td>1621.245798</td>\n",
       "      <td>146.412162</td>\n",
       "      <td>342.00000</td>\n",
       "      <td>0.842199</td>\n",
       "    </tr>\n",
       "    <tr>\n",
       "      <th>std</th>\n",
       "      <td>6109.041673</td>\n",
       "      <td>2926.248369</td>\n",
       "      <td>85.587325</td>\n",
       "      <td>65.12041</td>\n",
       "      <td>0.364878</td>\n",
       "    </tr>\n",
       "    <tr>\n",
       "      <th>min</th>\n",
       "      <td>150.000000</td>\n",
       "      <td>0.000000</td>\n",
       "      <td>9.000000</td>\n",
       "      <td>12.00000</td>\n",
       "      <td>0.000000</td>\n",
       "    </tr>\n",
       "    <tr>\n",
       "      <th>25%</th>\n",
       "      <td>2877.500000</td>\n",
       "      <td>0.000000</td>\n",
       "      <td>NaN</td>\n",
       "      <td>NaN</td>\n",
       "      <td>NaN</td>\n",
       "    </tr>\n",
       "    <tr>\n",
       "      <th>50%</th>\n",
       "      <td>3812.500000</td>\n",
       "      <td>1188.500000</td>\n",
       "      <td>NaN</td>\n",
       "      <td>NaN</td>\n",
       "      <td>NaN</td>\n",
       "    </tr>\n",
       "    <tr>\n",
       "      <th>75%</th>\n",
       "      <td>5795.000000</td>\n",
       "      <td>2297.250000</td>\n",
       "      <td>NaN</td>\n",
       "      <td>NaN</td>\n",
       "      <td>NaN</td>\n",
       "    </tr>\n",
       "    <tr>\n",
       "      <th>max</th>\n",
       "      <td>81000.000000</td>\n",
       "      <td>41667.000000</td>\n",
       "      <td>700.000000</td>\n",
       "      <td>480.00000</td>\n",
       "      <td>1.000000</td>\n",
       "    </tr>\n",
       "  </tbody>\n",
       "</table>\n",
       "</div>"
      ],
      "text/plain": [
       "       ApplicantIncome  CoapplicantIncome  LoanAmount  Loan_Amount_Term  \\\n",
       "count       614.000000         614.000000  592.000000         600.00000   \n",
       "mean       5403.459283        1621.245798  146.412162         342.00000   \n",
       "std        6109.041673        2926.248369   85.587325          65.12041   \n",
       "min         150.000000           0.000000    9.000000          12.00000   \n",
       "25%        2877.500000           0.000000         NaN               NaN   \n",
       "50%        3812.500000        1188.500000         NaN               NaN   \n",
       "75%        5795.000000        2297.250000         NaN               NaN   \n",
       "max       81000.000000       41667.000000  700.000000         480.00000   \n",
       "\n",
       "       Credit_History  \n",
       "count      564.000000  \n",
       "mean         0.842199  \n",
       "std          0.364878  \n",
       "min          0.000000  \n",
       "25%               NaN  \n",
       "50%               NaN  \n",
       "75%               NaN  \n",
       "max          1.000000  "
      ]
     },
     "execution_count": 3,
     "metadata": {},
     "output_type": "execute_result"
    }
   ],
   "source": [
    "# show the statistics for features contain numerical values\n",
    "# we can see data are not clean, have missing items.\n",
    "df.describe()"
   ]
  },
  {
   "cell_type": "code",
   "execution_count": 4,
   "metadata": {
    "collapsed": false
   },
   "outputs": [
    {
     "data": {
      "text/plain": [
       "array([[<matplotlib.axes._subplots.AxesSubplot object at 0x1115b4b90>,\n",
       "        <matplotlib.axes._subplots.AxesSubplot object at 0x111637d10>],\n",
       "       [<matplotlib.axes._subplots.AxesSubplot object at 0x111660f90>,\n",
       "        <matplotlib.axes._subplots.AxesSubplot object at 0x11171dd50>],\n",
       "       [<matplotlib.axes._subplots.AxesSubplot object at 0x111794e90>,\n",
       "        <matplotlib.axes._subplots.AxesSubplot object at 0x1117f0d50>]], dtype=object)"
      ]
     },
     "execution_count": 4,
     "metadata": {},
     "output_type": "execute_result"
    },
    {
     "data": {
      "image/png": "[encoded data removed]",
      "text/plain": [
       "<matplotlib.figure.Figure at 0x10f20b9d0>"
      ]
     },
     "metadata": {},
     "output_type": "display_data"
    }
   ],
   "source": [
    "# Use histogram to visualize distribution of continuous features\n",
    "#\n",
    "#df[df.dtypes[(df.dtypes==\"float64\")|(df.dtypes==\"int64\")]\n",
    "#   .index.values].hist(bins=20, figsize=[15,10])\n",
    "df.hist(bins=20, figsize=[15,10])"
   ]
  },
  {
   "cell_type": "code",
   "execution_count": 5,
   "metadata": {
    "collapsed": false
   },
   "outputs": [
    {
     "data": {
      "text/plain": [
       "OrderedDict([('ApplicantIncome',\n",
       "              {'boxes': [<matplotlib.lines.Line2D at 0x1123c0210>],\n",
       "               'caps': [<matplotlib.lines.Line2D at 0x1123d3090>,\n",
       "                <matplotlib.lines.Line2D at 0x1123d36d0>],\n",
       "               'fliers': [<matplotlib.lines.Line2D at 0x1123df390>],\n",
       "               'means': [],\n",
       "               'medians': [<matplotlib.lines.Line2D at 0x1123d3d10>],\n",
       "               'whiskers': [<matplotlib.lines.Line2D at 0x111ee2e50>,\n",
       "                <matplotlib.lines.Line2D at 0x1123c0a10>]}),\n",
       "             ('CoapplicantIncome',\n",
       "              {'boxes': [<matplotlib.lines.Line2D at 0x1123dfed0>],\n",
       "               'caps': [<matplotlib.lines.Line2D at 0x1123ead50>,\n",
       "                <matplotlib.lines.Line2D at 0x1123f93d0>],\n",
       "               'fliers': [<matplotlib.lines.Line2D at 0x112402090>],\n",
       "               'means': [],\n",
       "               'medians': [<matplotlib.lines.Line2D at 0x1123f9a10>],\n",
       "               'whiskers': [<matplotlib.lines.Line2D at 0x1123ea050>,\n",
       "                <matplotlib.lines.Line2D at 0x1123ea710>]}),\n",
       "             ('LoanAmount',\n",
       "              {'boxes': [<matplotlib.lines.Line2D at 0x112402bd0>],\n",
       "               'caps': [<matplotlib.lines.Line2D at 0x11240ea50>,\n",
       "                <matplotlib.lines.Line2D at 0x11241b0d0>],\n",
       "               'fliers': [<matplotlib.lines.Line2D at 0x11241bd50>],\n",
       "               'means': [],\n",
       "               'medians': [<matplotlib.lines.Line2D at 0x11241b710>],\n",
       "               'whiskers': [<matplotlib.lines.Line2D at 0x112402d10>,\n",
       "                <matplotlib.lines.Line2D at 0x11240e410>]}),\n",
       "             ('Loan_Amount_Term',\n",
       "              {'boxes': [<matplotlib.lines.Line2D at 0x1124258d0>],\n",
       "               'caps': [<matplotlib.lines.Line2D at 0x112433750>,\n",
       "                <matplotlib.lines.Line2D at 0x112433d90>],\n",
       "               'fliers': [<matplotlib.lines.Line2D at 0x11243fa50>],\n",
       "               'means': [],\n",
       "               'medians': [<matplotlib.lines.Line2D at 0x11243f410>],\n",
       "               'whiskers': [<matplotlib.lines.Line2D at 0x112425a10>,\n",
       "                <matplotlib.lines.Line2D at 0x112433110>]}),\n",
       "             ('Credit_History',\n",
       "              {'boxes': [<matplotlib.lines.Line2D at 0x11244c5d0>],\n",
       "               'caps': [<matplotlib.lines.Line2D at 0x112458450>,\n",
       "                <matplotlib.lines.Line2D at 0x112458a90>],\n",
       "               'fliers': [<matplotlib.lines.Line2D at 0x112465750>],\n",
       "               'means': [],\n",
       "               'medians': [<matplotlib.lines.Line2D at 0x112465110>],\n",
       "               'whiskers': [<matplotlib.lines.Line2D at 0x11244c710>,\n",
       "                <matplotlib.lines.Line2D at 0x11244cdd0>]})])"
      ]
     },
     "execution_count": 5,
     "metadata": {},
     "output_type": "execute_result"
    },
    {
     "data": {
      "image/png": "[encoded data removed]",
      "text/plain": [
       "<matplotlib.figure.Figure at 0x1115addd0>"
      ]
     },
     "metadata": {},
     "output_type": "display_data"
    }
   ],
   "source": [
    "# from the hist chart, it seems income and loanamount distribution isn't normal\n",
    "# and has some outliers, let's take a detailed look with boxplot\n",
    "\n",
    "df.plot(kind='box', return_type='dict' , subplots = True, figsize=(15,5))"
   ]
  },
  {
   "cell_type": "code",
   "execution_count": 6,
   "metadata": {
    "collapsed": false
   },
   "outputs": [
    {
     "name": "stdout",
     "output_type": "stream",
     "text": [
      "Male      489\n",
      "Female    112\n",
      "Name: Gender, dtype: int64\n",
      "Yes    398\n",
      "No     213\n",
      "Name: Married, dtype: int64\n",
      "0     345\n",
      "1     102\n",
      "2     101\n",
      "3+     51\n",
      "Name: Dependents, dtype: int64\n",
      "Graduate        480\n",
      "Not Graduate    134\n",
      "Name: Education, dtype: int64\n",
      "No     500\n",
      "Yes     82\n",
      "Name: Self_Employed, dtype: int64\n",
      "Semiurban    233\n",
      "Urban        202\n",
      "Rural        179\n",
      "Name: Property_Area, dtype: int64\n",
      "Y    422\n",
      "N    192\n",
      "Name: Loan_Status, dtype: int64\n"
     ]
    }
   ],
   "source": [
    "# With boxplot, we confirmed income data exists outliers. \n",
    "\n",
    "# Univariate Analysis for categorical features\n",
    "\n",
    "categorical = ['Gender','Married','Dependents','Education','Self_Employed','Property_Area','Loan_Status']\n",
    "for col in categorical:\n",
    "    print df[col].value_counts()"
   ]
  },
  {
   "cell_type": "code",
   "execution_count": 7,
   "metadata": {
    "collapsed": false
   },
   "outputs": [
    {
     "data": {
      "text/plain": [
       "<matplotlib.axes._subplots.AxesSubplot at 0x1126b30d0>"
      ]
     },
     "execution_count": 7,
     "metadata": {},
     "output_type": "execute_result"
    },
    {
     "data": {
      "image/png": "[encoded data removed]",
      "text/plain": [
       "<matplotlib.figure.Figure at 0x1115ade50>"
      ]
     },
     "metadata": {},
     "output_type": "display_data"
    }
   ],
   "source": [
    "# Bi-Variate Analysis\n",
    "\n",
    "# use pivot table if index is categorical values\n",
    "\n",
    "# Use Pivot table explore relationship between Loan_Status and Credit_History\n",
    "df.pivot_table(values='Loan_Status',\n",
    "               index=['Credit_History'],\n",
    "               aggfunc=lambda x: x.map({'Y':1,'N':0}).mean()).plot(kind='bar')\n"
   ]
  },
  {
   "cell_type": "code",
   "execution_count": 8,
   "metadata": {
    "collapsed": false
   },
   "outputs": [
    {
     "data": {
      "text/plain": [
       "<matplotlib.axes._subplots.AxesSubplot at 0x112714b90>"
      ]
     },
     "execution_count": 8,
     "metadata": {},
     "output_type": "execute_result"
    },
    {
     "data": {
      "image/png": "[encoded data removed]",
      "text/plain": [
       "<matplotlib.figure.Figure at 0x1126c9550>"
      ]
     },
     "metadata": {},
     "output_type": "display_data"
    }
   ],
   "source": [
    "# It shows the probability of getting a loan is 8 times higher with a credit history!\n",
    "\n",
    "# Visualize the relationship between loan_status and credit history with stacked bar plot\n",
    "\n",
    "pd.crosstab(df['Credit_History'],df['Loan_Status']).plot(kind='bar',\n",
    "                                                         stacked=True,\n",
    "                                                         color=['red','blue'],\n",
    "                                                         grid=False)\n"
   ]
  },
  {
   "cell_type": "code",
   "execution_count": 9,
   "metadata": {
    "collapsed": false
   },
   "outputs": [
    {
     "data": {
      "text/plain": [
       "<matplotlib.axes._subplots.AxesSubplot at 0x11164f3d0>"
      ]
     },
     "execution_count": 9,
     "metadata": {},
     "output_type": "execute_result"
    },
    {
     "data": {
      "image/png": "[encoded data removed]",
      "text/plain": [
       "<matplotlib.figure.Figure at 0x1128afa10>"
      ]
     },
     "metadata": {},
     "output_type": "display_data"
    }
   ],
   "source": [
    "# explore Geder and Loan_Status relationship\n",
    "\n",
    "df.pivot_table(values='Loan_Status',\n",
    "               index=['Gender'],\n",
    "               aggfunc=lambda x: x.map({'Y':1,'N':0}).mean()).plot(kind='bar')\n"
   ]
  },
  {
   "cell_type": "code",
   "execution_count": 10,
   "metadata": {
    "collapsed": false
   },
   "outputs": [
    {
     "data": {
      "text/plain": [
       "<matplotlib.axes._subplots.AxesSubplot at 0x112adfe90>"
      ]
     },
     "execution_count": 10,
     "metadata": {},
     "output_type": "execute_result"
    },
    {
     "data": {
      "image/png": "[encoded data removed]",
      "text/plain": [
       "<matplotlib.figure.Figure at 0x1129c31d0>"
      ]
     },
     "metadata": {},
     "output_type": "display_data"
    }
   ],
   "source": [
    "# it seems loan_status rate is about the same across gender.\n",
    "\n",
    "# Now explore Property_Area and Loan_status\n",
    "\n",
    "pd.crosstab(df['Property_Area'], df['Loan_Status']).plot(kind='bar', stacked=True, color=['red','blue'], grid=False, legend=False)"
   ]
  },
  {
   "cell_type": "code",
   "execution_count": 11,
   "metadata": {
    "collapsed": false
   },
   "outputs": [
    {
     "data": {
      "text/plain": [
       "<matplotlib.axes._subplots.AxesSubplot at 0x112b3f850>"
      ]
     },
     "execution_count": 11,
     "metadata": {},
     "output_type": "execute_result"
    },
    {
     "data": {
      "image/png": "[encoded data removed]",
      "text/plain": [
       "<matplotlib.figure.Figure at 0x112b0cb10>"
      ]
     },
     "metadata": {},
     "output_type": "display_data"
    }
   ],
   "source": [
    "# Loan_status and Dependents\n",
    "\n",
    "pd.crosstab(df['Dependents'], df['Loan_Status']).plot(kind='bar', stacked=True, color=['red','blue'], grid=False)\n"
   ]
  },
  {
   "cell_type": "code",
   "execution_count": 12,
   "metadata": {
    "collapsed": false
   },
   "outputs": [
    {
     "data": {
      "text/plain": [
       "Loan_ID               0\n",
       "Gender               13\n",
       "Married               3\n",
       "Dependents           15\n",
       "Education             0\n",
       "Self_Employed        32\n",
       "ApplicantIncome       0\n",
       "CoapplicantIncome     0\n",
       "LoanAmount           22\n",
       "Loan_Amount_Term     14\n",
       "Credit_History       50\n",
       "Property_Area         0\n",
       "Loan_Status           0\n",
       "dtype: int64"
      ]
     },
     "execution_count": 12,
     "metadata": {},
     "output_type": "execute_result"
    }
   ],
   "source": [
    "# Data munging\n",
    "\n",
    "# find out NaN values.  x is the Serie type.\n",
    "df.apply(lambda x: x.isnull().sum()) \n"
   ]
  },
  {
   "cell_type": "code",
   "execution_count": 13,
   "metadata": {
    "collapsed": false
   },
   "outputs": [
    {
     "data": {
      "text/plain": [
       "No     500\n",
       "Yes     82\n",
       "Name: Self_Employed, dtype: int64"
      ]
     },
     "execution_count": 13,
     "metadata": {},
     "output_type": "execute_result"
    }
   ],
   "source": [
    "# check the value distribution\n",
    "df['Self_Employed'].value_counts()"
   ]
  },
  {
   "cell_type": "code",
   "execution_count": 14,
   "metadata": {
    "collapsed": true
   },
   "outputs": [],
   "source": [
    "# FE-1: From the distribution, replace missing with NO is a good guess.\n",
    "df['Self_Employed'].fillna('No',inplace=True)"
   ]
  },
  {
   "cell_type": "code",
   "execution_count": 15,
   "metadata": {
    "collapsed": true
   },
   "outputs": [],
   "source": [
    "# Treat the missing values in Loan Amount"
   ]
  },
  {
   "cell_type": "code",
   "execution_count": 16,
   "metadata": {
    "collapsed": false
   },
   "outputs": [
    {
     "data": {
      "text/plain": [
       "<matplotlib.axes._subplots.AxesSubplot at 0x112cf58d0>"
      ]
     },
     "execution_count": 16,
     "metadata": {},
     "output_type": "execute_result"
    },
    {
     "data": {
      "image/png": "[encoded data removed]",
      "text/plain": [
       "<matplotlib.figure.Figure at 0x112d9d510>"
      ]
     },
     "metadata": {},
     "output_type": "display_data"
    }
   ],
   "source": [
    "# Domain knowledge tells us loan amount would be associate with Self_Employed,\n",
    "# since self employed would need more money.\n",
    "\n",
    "# FE-2a\n",
    "# let's use Pivot table to examine how loan amount is aggregated\n",
    "# we use self employed status as index and Education values as columns\n",
    "# later we can swap education to something else if we think it affect loan amount.\n",
    "table = df.pivot_table(values='LoanAmount', \n",
    "                       index='Self_Employed',\n",
    "                       columns='Education', # columns are categorical values of Education\n",
    "                       aggfunc=np.median) \n",
    "\n",
    "table.plot(kind='bar')"
   ]
  },
  {
   "cell_type": "code",
   "execution_count": null,
   "metadata": {
    "collapsed": true
   },
   "outputs": [],
   "source": []
  },
  {
   "cell_type": "code",
   "execution_count": 17,
   "metadata": {
    "collapsed": false
   },
   "outputs": [],
   "source": [
    "# FE-2b Replace missing values with the sub-category median.\n",
    "# this is better than use median of all because sub-category differs.\n",
    "\n",
    "def fage(x):\n",
    " return table.loc[x['Self_Employed'],x['Education']]\n",
    "\n",
    "df['LoanAmount'].fillna(df[df['LoanAmount'].isnull()].apply(fage, axis=1), inplace=True)"
   ]
  },
  {
   "cell_type": "code",
   "execution_count": 18,
   "metadata": {
    "collapsed": false
   },
   "outputs": [
    {
     "data": {
      "text/html": [
       "<div>\n",
       "<table border=\"1\" class=\"dataframe\">\n",
       "  <thead>\n",
       "    <tr style=\"text-align: right;\">\n",
       "      <th></th>\n",
       "      <th>Loan_ID</th>\n",
       "      <th>Gender</th>\n",
       "      <th>Married</th>\n",
       "      <th>Dependents</th>\n",
       "      <th>Education</th>\n",
       "      <th>Self_Employed</th>\n",
       "      <th>ApplicantIncome</th>\n",
       "      <th>CoapplicantIncome</th>\n",
       "      <th>LoanAmount</th>\n",
       "      <th>Loan_Amount_Term</th>\n",
       "      <th>Credit_History</th>\n",
       "      <th>Property_Area</th>\n",
       "      <th>Loan_Status</th>\n",
       "    </tr>\n",
       "  </thead>\n",
       "  <tbody>\n",
       "    <tr>\n",
       "      <th>23</th>\n",
       "      <td>LP001050</td>\n",
       "      <td>NaN</td>\n",
       "      <td>Yes</td>\n",
       "      <td>2</td>\n",
       "      <td>Not Graduate</td>\n",
       "      <td>No</td>\n",
       "      <td>3365</td>\n",
       "      <td>1917.0</td>\n",
       "      <td>112.0</td>\n",
       "      <td>360.0</td>\n",
       "      <td>0.0</td>\n",
       "      <td>Rural</td>\n",
       "      <td>N</td>\n",
       "    </tr>\n",
       "    <tr>\n",
       "      <th>126</th>\n",
       "      <td>LP001448</td>\n",
       "      <td>NaN</td>\n",
       "      <td>Yes</td>\n",
       "      <td>3+</td>\n",
       "      <td>Graduate</td>\n",
       "      <td>No</td>\n",
       "      <td>23803</td>\n",
       "      <td>0.0</td>\n",
       "      <td>370.0</td>\n",
       "      <td>360.0</td>\n",
       "      <td>1.0</td>\n",
       "      <td>Rural</td>\n",
       "      <td>Y</td>\n",
       "    </tr>\n",
       "    <tr>\n",
       "      <th>171</th>\n",
       "      <td>LP001585</td>\n",
       "      <td>NaN</td>\n",
       "      <td>Yes</td>\n",
       "      <td>3+</td>\n",
       "      <td>Graduate</td>\n",
       "      <td>No</td>\n",
       "      <td>51763</td>\n",
       "      <td>0.0</td>\n",
       "      <td>700.0</td>\n",
       "      <td>300.0</td>\n",
       "      <td>1.0</td>\n",
       "      <td>Urban</td>\n",
       "      <td>Y</td>\n",
       "    </tr>\n",
       "    <tr>\n",
       "      <th>188</th>\n",
       "      <td>LP001644</td>\n",
       "      <td>NaN</td>\n",
       "      <td>Yes</td>\n",
       "      <td>0</td>\n",
       "      <td>Graduate</td>\n",
       "      <td>Yes</td>\n",
       "      <td>674</td>\n",
       "      <td>5296.0</td>\n",
       "      <td>168.0</td>\n",
       "      <td>360.0</td>\n",
       "      <td>1.0</td>\n",
       "      <td>Rural</td>\n",
       "      <td>Y</td>\n",
       "    </tr>\n",
       "    <tr>\n",
       "      <th>314</th>\n",
       "      <td>LP002024</td>\n",
       "      <td>NaN</td>\n",
       "      <td>Yes</td>\n",
       "      <td>0</td>\n",
       "      <td>Graduate</td>\n",
       "      <td>No</td>\n",
       "      <td>2473</td>\n",
       "      <td>1843.0</td>\n",
       "      <td>159.0</td>\n",
       "      <td>360.0</td>\n",
       "      <td>1.0</td>\n",
       "      <td>Rural</td>\n",
       "      <td>N</td>\n",
       "    </tr>\n",
       "  </tbody>\n",
       "</table>\n",
       "</div>"
      ],
      "text/plain": [
       "      Loan_ID Gender Married Dependents     Education Self_Employed  \\\n",
       "23   LP001050    NaN     Yes          2  Not Graduate            No   \n",
       "126  LP001448    NaN     Yes         3+      Graduate            No   \n",
       "171  LP001585    NaN     Yes         3+      Graduate            No   \n",
       "188  LP001644    NaN     Yes          0      Graduate           Yes   \n",
       "314  LP002024    NaN     Yes          0      Graduate            No   \n",
       "\n",
       "     ApplicantIncome  CoapplicantIncome  LoanAmount  Loan_Amount_Term  \\\n",
       "23              3365             1917.0       112.0             360.0   \n",
       "126            23803                0.0       370.0             360.0   \n",
       "171            51763                0.0       700.0             300.0   \n",
       "188              674             5296.0       168.0             360.0   \n",
       "314             2473             1843.0       159.0             360.0   \n",
       "\n",
       "     Credit_History Property_Area Loan_Status  \n",
       "23              0.0         Rural           N  \n",
       "126             1.0         Rural           Y  \n",
       "171             1.0         Urban           Y  \n",
       "188             1.0         Rural           Y  \n",
       "314             1.0         Rural           N  "
      ]
     },
     "execution_count": 18,
     "metadata": {},
     "output_type": "execute_result"
    }
   ],
   "source": [
    "# Let's see missing values in Gender\n",
    "df[df['Gender'].isnull()].head(5)"
   ]
  },
  {
   "cell_type": "code",
   "execution_count": 19,
   "metadata": {
    "collapsed": false
   },
   "outputs": [
    {
     "data": {
      "text/plain": [
       "True     541\n",
       "False     73\n",
       "Name: BreadWinner, dtype: int64"
      ]
     },
     "execution_count": 19,
     "metadata": {},
     "output_type": "execute_result"
    }
   ],
   "source": [
    "# it seems that we might guess the gender based ApplicantIncome and CoapplicantIncome\n",
    "# FE-3a\n",
    "\n",
    "df['BreadWinner']=df['ApplicantIncome']>df['CoapplicantIncome']\n",
    "df['BreadWinner'].value_counts()"
   ]
  },
  {
   "cell_type": "code",
   "execution_count": 20,
   "metadata": {
    "collapsed": false
   },
   "outputs": [],
   "source": [
    "# FE-3b Now let's treat missing values in gender\n",
    "\n",
    "df.loc[(df['BreadWinner']) & (df['Gender'].isnull()),'Gender'] = 'Male'\n",
    "df['Gender'].fillna('Female', inplace=True)"
   ]
  },
  {
   "cell_type": "code",
   "execution_count": 21,
   "metadata": {
    "collapsed": false
   },
   "outputs": [],
   "source": [
    "# FE-4a convert Dependents to integer, excluding null values\n",
    "\n",
    "# this take a column/Series, so x is an element of Series.\n",
    "df['Dependents'] = df['Dependents'].apply(lambda x: int(x.replace('+','')) if pd.notnull(x) else None)"
   ]
  },
  {
   "cell_type": "code",
   "execution_count": 22,
   "metadata": {
    "collapsed": false,
    "scrolled": false
   },
   "outputs": [
    {
     "data": {
      "text/plain": [
       "<matplotlib.axes._subplots.AxesSubplot at 0x112efa650>"
      ]
     },
     "execution_count": 22,
     "metadata": {},
     "output_type": "execute_result"
    },
    {
     "data": {
      "image/png": "[encoded data removed]",
      "text/plain": [
       "<matplotlib.figure.Figure at 0x112dceed0>"
      ]
     },
     "metadata": {},
     "output_type": "display_data"
    }
   ],
   "source": [
    "# Find out mean dependents in two groups: Married and not Married\n",
    "\n",
    "table = df.pivot_table(values='Dependents', \n",
    "                       index='Married',\n",
    "                       #columns='Education', # columns are categorical values of Education                      \n",
    "                       aggfunc=np.mean)\n",
    "table.plot(kind='bar')"
   ]
  },
  {
   "cell_type": "code",
   "execution_count": 23,
   "metadata": {
    "collapsed": false
   },
   "outputs": [],
   "source": [
    "# so on average, married group has 3 times dependents than not married.\n",
    "# here is how to fill the missing values in dependents\n",
    "# - if married, fill 1 ( subgroup mean)\n",
    "# - if not married, fill ( 0, close to subgroup mean)\n",
    "# - if don't know, fill 1 ( group mean )\n",
    "\n",
    "# FE-4b\n",
    "df.loc[(df['Dependents'].isnull()) & (df['Married']=='No'),'Dependents'] = 0\n",
    "df['Dependents'].fillna(1, inplace = True)\n",
    "# FE-4c create another feature HasDependents\n",
    "df['hasDependents'] = df['Dependents']>0"
   ]
  },
  {
   "cell_type": "code",
   "execution_count": 24,
   "metadata": {
    "collapsed": false
   },
   "outputs": [
    {
     "data": {
      "text/plain": [
       "<matplotlib.axes._subplots.AxesSubplot at 0x112f44850>"
      ]
     },
     "execution_count": 24,
     "metadata": {},
     "output_type": "execute_result"
    },
    {
     "data": {
      "image/png": "[encoded data removed]",
      "text/plain": [
       "<matplotlib.figure.Figure at 0x113030690>"
      ]
     },
     "metadata": {},
     "output_type": "display_data"
    }
   ],
   "source": [
    "# find out the percentage of married in two catergory: has dependents or no dependents\n",
    "table = df.pivot_table(values='Married', \n",
    "                       index='hasDependents',                      \n",
    "                       aggfunc=lambda x:x.map({'Yes':1,'No':0}).mean())\n",
    "table.plot(kind='bar')"
   ]
  },
  {
   "cell_type": "code",
   "execution_count": 25,
   "metadata": {
    "collapsed": true
   },
   "outputs": [],
   "source": [
    "# FE-5a\n",
    "df['DoubleIncome'] = df['CoapplicantIncome']>0"
   ]
  },
  {
   "cell_type": "code",
   "execution_count": 26,
   "metadata": {
    "collapsed": false
   },
   "outputs": [
    {
     "data": {
      "text/plain": [
       "<matplotlib.axes._subplots.AxesSubplot at 0x11313cc10>"
      ]
     },
     "execution_count": 26,
     "metadata": {},
     "output_type": "execute_result"
    },
    {
     "data": {
      "image/png": "[encoded data removed]",
      "text/plain": [
       "<matplotlib.figure.Figure at 0x1131595d0>"
      ]
     },
     "metadata": {},
     "output_type": "display_data"
    }
   ],
   "source": [
    "table = df.pivot_table(values='Married', \n",
    "                       index='DoubleIncome',                      \n",
    "                       aggfunc=lambda x:x.map({'Yes':1,'No':0}).mean())\n",
    "table.plot(kind='bar')"
   ]
  },
  {
   "cell_type": "code",
   "execution_count": 27,
   "metadata": {
    "collapsed": false
   },
   "outputs": [
    {
     "data": {
      "text/plain": [
       "Yes    398\n",
       "No     213\n",
       "Name: Married, dtype: int64"
      ]
     },
     "execution_count": 27,
     "metadata": {},
     "output_type": "execute_result"
    }
   ],
   "source": [
    "df['Married'].value_counts()"
   ]
  },
  {
   "cell_type": "code",
   "execution_count": 28,
   "metadata": {
    "collapsed": false
   },
   "outputs": [],
   "source": [
    "# FE-5b Fill missing values in Married \n",
    "\n",
    "# one can either use doubleincome or majority value\n",
    "# let's choose double income\n",
    "df.loc[(df['Married'].isnull()) & (df['DoubleIncome']), 'Married'] = 'Yes'\n",
    "df['Married'].fillna('No', inplace=True)"
   ]
  },
  {
   "cell_type": "code",
   "execution_count": 29,
   "metadata": {
    "collapsed": false
   },
   "outputs": [
    {
     "data": {
      "text/plain": [
       "<matplotlib.axes._subplots.AxesSubplot at 0x113278350>"
      ]
     },
     "execution_count": 29,
     "metadata": {},
     "output_type": "execute_result"
    },
    {
     "data": {
      "image/png": "[encoded data removed]",
      "text/plain": [
       "<matplotlib.figure.Figure at 0x11329c6d0>"
      ]
     },
     "metadata": {},
     "output_type": "display_data"
    }
   ],
   "source": [
    "# Loan_Amount_Term should be related to LoanAmount\n",
    "\n",
    "# let's find out if large loan has a longer term\n",
    "\n",
    "# this is one way to change continuous feature to categorical so that we can pivot.\n",
    "# FE-6a\n",
    "df['LargeLoan'] = df['LoanAmount']>df['LoanAmount'].median()\n",
    "table = df.pivot_table(values='Loan_Amount_Term', \n",
    "                       index='LargeLoan',                     \n",
    "                       aggfunc=np.mean)\n",
    "table.plot(kind='bar')"
   ]
  },
  {
   "cell_type": "code",
   "execution_count": 30,
   "metadata": {
    "collapsed": true
   },
   "outputs": [],
   "source": [
    "# it turns out that mean loan term is same, no matter large or small loan.\n",
    "\n",
    "# FE-6\n",
    "df['Loan_Amount_Term'].fillna(360.0, inplace = True)"
   ]
  },
  {
   "cell_type": "code",
   "execution_count": 31,
   "metadata": {
    "collapsed": false
   },
   "outputs": [],
   "source": [
    "# no idea how to infer credit history, look like 1 is majority\n",
    "# however, it is the major effect on loan status\n",
    "# it is a hard choice. 50 records is ~8% of data\n",
    "# by comparing the two results, chooseing drop these is better.\n",
    "\n",
    "# FE-7\n",
    "#df.dropna(inplace = True)\n",
    "df['Credit_History'].fillna(1,inplace = True)"
   ]
  },
  {
   "cell_type": "code",
   "execution_count": 32,
   "metadata": {
    "collapsed": false
   },
   "outputs": [
    {
     "data": {
      "text/plain": [
       "array([[<matplotlib.axes._subplots.AxesSubplot object at 0x113281710>,\n",
       "        <matplotlib.axes._subplots.AxesSubplot object at 0x1134c6e50>]], dtype=object)"
      ]
     },
     "execution_count": 32,
     "metadata": {},
     "output_type": "execute_result"
    },
    {
     "data": {
      "image/png": "[encoded data removed]",
      "text/plain": [
       "<matplotlib.figure.Figure at 0x1133dec50>"
      ]
     },
     "metadata": {},
     "output_type": "display_data"
    }
   ],
   "source": [
    "# let's treat extremes\n",
    "\n",
    "# Loan Amount\n",
    "\n",
    "# FE-8\n",
    "# use log to transform distribution\n",
    "df['LoanAmount_log'] = np.log(df['LoanAmount'])\n",
    "df[['LoanAmount','LoanAmount_log']].hist(bins=20, figsize = (10,5))"
   ]
  },
  {
   "cell_type": "code",
   "execution_count": 33,
   "metadata": {
    "collapsed": false
   },
   "outputs": [
    {
     "data": {
      "text/plain": [
       "array([[<matplotlib.axes._subplots.AxesSubplot object at 0x1133de410>,\n",
       "        <matplotlib.axes._subplots.AxesSubplot object at 0x11370d2d0>]], dtype=object)"
      ]
     },
     "execution_count": 33,
     "metadata": {},
     "output_type": "execute_result"
    },
    {
     "data": {
      "image/png": "[encoded data removed]",
      "text/plain": [
       "<matplotlib.figure.Figure at 0x1133c4590>"
      ]
     },
     "metadata": {},
     "output_type": "display_data"
    }
   ],
   "source": [
    "# Income treatment\n",
    "\n",
    "# create a new TotalIncome feature\n",
    "# use log to make distribution look better.\n",
    "\n",
    "# FE-9\n",
    "df['TotalIncome'] = df['ApplicantIncome'] + df['CoapplicantIncome']\n",
    "df['TotalIncome_log'] = np.log(df['TotalIncome'])\n",
    "df[['TotalIncome','TotalIncome_log']].hist(bins=20, figsize = (10,5)) "
   ]
  },
  {
   "cell_type": "code",
   "execution_count": 34,
   "metadata": {
    "collapsed": false
   },
   "outputs": [
    {
     "data": {
      "text/plain": [
       "<matplotlib.axes._subplots.AxesSubplot at 0x11381d1d0>"
      ]
     },
     "execution_count": 34,
     "metadata": {},
     "output_type": "execute_result"
    },
    {
     "data": {
      "image/png": "[encoded data removed]",
      "text/plain": [
       "<matplotlib.figure.Figure at 0x1133c2650>"
      ]
     },
     "metadata": {},
     "output_type": "display_data"
    }
   ],
   "source": [
    "# with some domain knowledge, we know loan status is related to debit ratio,\n",
    "# let's create a new feature DebitRatio\n",
    "\n",
    "import math\n",
    "# FE-10\n",
    "df['DebitRatio'] = (df['LoanAmount']/df['TotalIncome']).apply(lambda x:math.sqrt(x))\n",
    "df['DebitRatio'].hist(bins=20)"
   ]
  },
  {
   "cell_type": "code",
   "execution_count": 35,
   "metadata": {
    "collapsed": false
   },
   "outputs": [],
   "source": [
    "# let's encode values\n",
    "\n",
    "from sklearn.preprocessing import LabelEncoder\n",
    "le = LabelEncoder()\n",
    "var_mod = ['Gender','Married','Dependents','Education','Self_Employed',\n",
    "           'Property_Area','Loan_Status','BreadWinner','hasDependents','DoubleIncome',\n",
    "          'LargeLoan']\n",
    "for i in var_mod:\n",
    "    df[i] = le.fit_transform(df[i]) "
   ]
  },
  {
   "cell_type": "code",
   "execution_count": 36,
   "metadata": {
    "collapsed": false,
    "scrolled": false
   },
   "outputs": [
    {
     "data": {
      "text/html": [
       "<div>\n",
       "<table border=\"1\" class=\"dataframe\">\n",
       "  <thead>\n",
       "    <tr style=\"text-align: right;\">\n",
       "      <th></th>\n",
       "      <th>Loan_ID</th>\n",
       "      <th>Gender</th>\n",
       "      <th>Married</th>\n",
       "      <th>Dependents</th>\n",
       "      <th>Education</th>\n",
       "      <th>Self_Employed</th>\n",
       "      <th>ApplicantIncome</th>\n",
       "      <th>CoapplicantIncome</th>\n",
       "      <th>LoanAmount</th>\n",
       "      <th>Loan_Amount_Term</th>\n",
       "      <th>...</th>\n",
       "      <th>Property_Area</th>\n",
       "      <th>Loan_Status</th>\n",
       "      <th>BreadWinner</th>\n",
       "      <th>hasDependents</th>\n",
       "      <th>DoubleIncome</th>\n",
       "      <th>LargeLoan</th>\n",
       "      <th>LoanAmount_log</th>\n",
       "      <th>TotalIncome</th>\n",
       "      <th>TotalIncome_log</th>\n",
       "      <th>DebitRatio</th>\n",
       "    </tr>\n",
       "  </thead>\n",
       "  <tbody>\n",
       "    <tr>\n",
       "      <th>0</th>\n",
       "      <td>LP001002</td>\n",
       "      <td>1</td>\n",
       "      <td>0</td>\n",
       "      <td>0</td>\n",
       "      <td>0</td>\n",
       "      <td>0</td>\n",
       "      <td>5849</td>\n",
       "      <td>0.0</td>\n",
       "      <td>130.0</td>\n",
       "      <td>360.0</td>\n",
       "      <td>...</td>\n",
       "      <td>2</td>\n",
       "      <td>1</td>\n",
       "      <td>1</td>\n",
       "      <td>0</td>\n",
       "      <td>0</td>\n",
       "      <td>1</td>\n",
       "      <td>4.867534</td>\n",
       "      <td>5849.0</td>\n",
       "      <td>8.674026</td>\n",
       "      <td>0.149084</td>\n",
       "    </tr>\n",
       "    <tr>\n",
       "      <th>1</th>\n",
       "      <td>LP001003</td>\n",
       "      <td>1</td>\n",
       "      <td>1</td>\n",
       "      <td>1</td>\n",
       "      <td>0</td>\n",
       "      <td>0</td>\n",
       "      <td>4583</td>\n",
       "      <td>1508.0</td>\n",
       "      <td>128.0</td>\n",
       "      <td>360.0</td>\n",
       "      <td>...</td>\n",
       "      <td>0</td>\n",
       "      <td>0</td>\n",
       "      <td>1</td>\n",
       "      <td>1</td>\n",
       "      <td>1</td>\n",
       "      <td>0</td>\n",
       "      <td>4.852030</td>\n",
       "      <td>6091.0</td>\n",
       "      <td>8.714568</td>\n",
       "      <td>0.144964</td>\n",
       "    </tr>\n",
       "    <tr>\n",
       "      <th>2</th>\n",
       "      <td>LP001005</td>\n",
       "      <td>1</td>\n",
       "      <td>1</td>\n",
       "      <td>0</td>\n",
       "      <td>0</td>\n",
       "      <td>1</td>\n",
       "      <td>3000</td>\n",
       "      <td>0.0</td>\n",
       "      <td>66.0</td>\n",
       "      <td>360.0</td>\n",
       "      <td>...</td>\n",
       "      <td>2</td>\n",
       "      <td>1</td>\n",
       "      <td>1</td>\n",
       "      <td>0</td>\n",
       "      <td>0</td>\n",
       "      <td>0</td>\n",
       "      <td>4.189655</td>\n",
       "      <td>3000.0</td>\n",
       "      <td>8.006368</td>\n",
       "      <td>0.148324</td>\n",
       "    </tr>\n",
       "    <tr>\n",
       "      <th>3</th>\n",
       "      <td>LP001006</td>\n",
       "      <td>1</td>\n",
       "      <td>1</td>\n",
       "      <td>0</td>\n",
       "      <td>1</td>\n",
       "      <td>0</td>\n",
       "      <td>2583</td>\n",
       "      <td>2358.0</td>\n",
       "      <td>120.0</td>\n",
       "      <td>360.0</td>\n",
       "      <td>...</td>\n",
       "      <td>2</td>\n",
       "      <td>1</td>\n",
       "      <td>1</td>\n",
       "      <td>0</td>\n",
       "      <td>1</td>\n",
       "      <td>0</td>\n",
       "      <td>4.787492</td>\n",
       "      <td>4941.0</td>\n",
       "      <td>8.505323</td>\n",
       "      <td>0.155842</td>\n",
       "    </tr>\n",
       "    <tr>\n",
       "      <th>4</th>\n",
       "      <td>LP001008</td>\n",
       "      <td>1</td>\n",
       "      <td>0</td>\n",
       "      <td>0</td>\n",
       "      <td>0</td>\n",
       "      <td>0</td>\n",
       "      <td>6000</td>\n",
       "      <td>0.0</td>\n",
       "      <td>141.0</td>\n",
       "      <td>360.0</td>\n",
       "      <td>...</td>\n",
       "      <td>2</td>\n",
       "      <td>1</td>\n",
       "      <td>1</td>\n",
       "      <td>0</td>\n",
       "      <td>0</td>\n",
       "      <td>1</td>\n",
       "      <td>4.948760</td>\n",
       "      <td>6000.0</td>\n",
       "      <td>8.699515</td>\n",
       "      <td>0.153297</td>\n",
       "    </tr>\n",
       "  </tbody>\n",
       "</table>\n",
       "<p>5 rows × 21 columns</p>\n",
       "</div>"
      ],
      "text/plain": [
       "    Loan_ID  Gender  Married  Dependents  Education  Self_Employed  \\\n",
       "0  LP001002       1        0           0          0              0   \n",
       "1  LP001003       1        1           1          0              0   \n",
       "2  LP001005       1        1           0          0              1   \n",
       "3  LP001006       1        1           0          1              0   \n",
       "4  LP001008       1        0           0          0              0   \n",
       "\n",
       "   ApplicantIncome  CoapplicantIncome  LoanAmount  Loan_Amount_Term  \\\n",
       "0             5849                0.0       130.0             360.0   \n",
       "1             4583             1508.0       128.0             360.0   \n",
       "2             3000                0.0        66.0             360.0   \n",
       "3             2583             2358.0       120.0             360.0   \n",
       "4             6000                0.0       141.0             360.0   \n",
       "\n",
       "      ...      Property_Area  Loan_Status  BreadWinner  hasDependents  \\\n",
       "0     ...                  2            1            1              0   \n",
       "1     ...                  0            0            1              1   \n",
       "2     ...                  2            1            1              0   \n",
       "3     ...                  2            1            1              0   \n",
       "4     ...                  2            1            1              0   \n",
       "\n",
       "   DoubleIncome  LargeLoan  LoanAmount_log  TotalIncome  TotalIncome_log  \\\n",
       "0             0          1        4.867534       5849.0         8.674026   \n",
       "1             1          0        4.852030       6091.0         8.714568   \n",
       "2             0          0        4.189655       3000.0         8.006368   \n",
       "3             1          0        4.787492       4941.0         8.505323   \n",
       "4             0          1        4.948760       6000.0         8.699515   \n",
       "\n",
       "   DebitRatio  \n",
       "0    0.149084  \n",
       "1    0.144964  \n",
       "2    0.148324  \n",
       "3    0.155842  \n",
       "4    0.153297  \n",
       "\n",
       "[5 rows x 21 columns]"
      ]
     },
     "execution_count": 36,
     "metadata": {},
     "output_type": "execute_result"
    }
   ],
   "source": [
    "# done with feature engineering! Now let's take a look:\n",
    "df.head(5)"
   ]
  },
  {
   "cell_type": "code",
   "execution_count": 37,
   "metadata": {
    "collapsed": false
   },
   "outputs": [
    {
     "data": {
      "text/plain": [
       "(['Credit_History',\n",
       "  'Gender',\n",
       "  'Married',\n",
       "  'Education',\n",
       "  'Self_Employed',\n",
       "  'Property_Area',\n",
       "  'BreadWinner',\n",
       "  'DoubleIncome',\n",
       "  'hasDependents',\n",
       "  'LargeLoan'],\n",
       " ['Dependents',\n",
       "  'ApplicantIncome',\n",
       "  'CoapplicantIncome',\n",
       "  'LoanAmount',\n",
       "  'Loan_Amount_Term',\n",
       "  'LoanAmount_log',\n",
       "  'TotalIncome',\n",
       "  'TotalIncome_log',\n",
       "  'DebitRatio'])"
      ]
     },
     "execution_count": 37,
     "metadata": {},
     "output_type": "execute_result"
    }
   ],
   "source": [
    "# feature extraction \n",
    "\n",
    "# since the test performance is a lot worse than training, xgb is overfit. \n",
    "# dimension reduction-> select few features based on xgb feature importance.\n",
    "#predictor_var =['Credit_History','LoanAmount_log', 'TotalIncome_log', 'DebitRatio']\n",
    "\n",
    "predictor_var = [ col for col in df.columns if col not in ['Loan_ID', 'Loan_Status'] ]\n",
    "                \n",
    "categorical = ['Credit_History','Gender', 'Married','Education','Self_Employed',\n",
    "               'Property_Area','BreadWinner','DoubleIncome',\n",
    "                'hasDependents','LargeLoan']\n",
    "non_categorical = [ i for i in predictor_var if i not in categorical ]\n",
    "                \n",
    "outcome_var = 'Loan_Status'\n",
    "categorical, non_categorical"
   ]
  },
  {
   "cell_type": "code",
   "execution_count": 38,
   "metadata": {
    "collapsed": false
   },
   "outputs": [],
   "source": [
    "# One hot encoding categorical features\n",
    "\n",
    "from sklearn.preprocessing import OneHotEncoder\n",
    "ohe = OneHotEncoder(handle_unknown='ignore', sparse=False) #categorical_features=[0], sparse = False\n",
    "X_cat_sparse = ohe.fit_transform(df[categorical])"
   ]
  },
  {
   "cell_type": "code",
   "execution_count": 39,
   "metadata": {
    "collapsed": true
   },
   "outputs": [],
   "source": [
    "# Standarize non-categorical features\n",
    "from sklearn.preprocessing import StandardScaler\n",
    "sc = StandardScaler()\n",
    "X_non_cat = sc.fit_transform(df[non_categorical])"
   ]
  },
  {
   "cell_type": "code",
   "execution_count": 40,
   "metadata": {
    "collapsed": false
   },
   "outputs": [
    {
     "data": {
      "text/plain": [
       "((614, 30), (614, 9), (614, 21))"
      ]
     },
     "execution_count": 40,
     "metadata": {},
     "output_type": "execute_result"
    }
   ],
   "source": [
    "#from scipy.sparse import hstack, for sparse\n",
    "from numpy import hstack # for non sparse X\n",
    "X = hstack((X_non_cat, X_cat_sparse))\n",
    "y = df[outcome_var]\n",
    "X.shape, X_non_cat.shape, X_cat_sparse.shape"
   ]
  },
  {
   "cell_type": "code",
   "execution_count": 41,
   "metadata": {
    "collapsed": false
   },
   "outputs": [],
   "source": [
    "#assert( np.isfinite(X.toarray()).all().all() & np.isfinite(y).all() )"
   ]
  },
  {
   "cell_type": "code",
   "execution_count": 42,
   "metadata": {
    "collapsed": false
   },
   "outputs": [
    {
     "name": "stderr",
     "output_type": "stream",
     "text": [
      "/Users/mingyuzhu/git/venv/lib/python2.7/site-packages/sklearn/cross_validation.py:44: DeprecationWarning: This module was deprecated in version 0.18 in favor of the model_selection module into which all the refactored classes and functions are moved. Also note that the interface of the new CV iterators are different from that of this module. This module will be removed in 0.20.\n",
      "  \"This module will be removed in 0.20.\", DeprecationWarning)\n"
     ]
    }
   ],
   "source": [
    "# now let's pick some models to predict loan status\n",
    "\n",
    "#Import models from scikit learn module:\n",
    "from sklearn.linear_model import LogisticRegression\n",
    "from sklearn.cross_validation import KFold   #For K-fold cross validation\n",
    "from sklearn.ensemble import RandomForestClassifier\n",
    "from sklearn.tree import DecisionTreeClassifier, export_graphviz\n",
    "from sklearn import metrics\n",
    "\n",
    "\n",
    "#Generic function for making a classification model and accessing performance:\n",
    "def classification_model(model, X, y):\n",
    "  #Fit the model:\n",
    "  model.fit(X,y)\n",
    "  \n",
    "  #Make predictions on training set:\n",
    "  predictions = model.predict(X)\n",
    "  \n",
    "  #Print accuracy\n",
    "  accuracy = metrics.accuracy_score(predictions,y)\n",
    "  print \"Accuracy : %s\" % \"{0:.3%}\".format(accuracy)\n",
    "\n",
    "  #Perform k-fold cross-validation with 5 folds\n",
    "  kf = KFold(X.shape[0], n_folds=5)\n",
    "  error = []\n",
    "  for train, test in kf:\n",
    "    # Filter training data\n",
    "    #train_predictors = (X.iloc[train,:])\n",
    "    # sparse matrix need call tocsc before indexing.\n",
    "    #train_predictors = X.tocsc()[train,:]\n",
    "    train_predictors = (X[train,:])\n",
    "    \n",
    "    # The target we're using to train the algorithm.\n",
    "    train_target = y.iloc[train]\n",
    "    \n",
    "    # Training the algorithm using the predictors and target.\n",
    "    model.fit(train_predictors, train_target)\n",
    "    \n",
    "    #Record error from each cross-validation run\n",
    "    #error.append(model.score(X.iloc[test,:], y.iloc[test]))\n",
    "    #error.append(model.score(X.tocsc()[test,:], y.iloc[test]))\n",
    "    error.append(model.score(X[test,:], y.iloc[test]))\n",
    " \n",
    "  print \"Cross-Validation Score : %s\" % \"{0:.3%}\".format(np.mean(error))\n",
    "\n",
    "  #Fit the model again so that it can be refered outside the function:\n",
    "  model.fit(X,y) \n"
   ]
  },
  {
   "cell_type": "code",
   "execution_count": 43,
   "metadata": {
    "collapsed": false
   },
   "outputs": [],
   "source": [
    "from sklearn.model_selection import learning_curve\n",
    "# http://scikit-learn.org/stable/modules/generated\\\n",
    "#/sklearn.model_selection.learning_curve.html#sklearn.model_selection.learning_curve\n",
    "\n",
    "def plot_learning_curve(estimator, title, X, y, ylim=None, cv=None,\n",
    "                        n_jobs=1, train_sizes=np.linspace(.1, 1.0, 5), scoring='roc_auc'):\n",
    "    \"\"\"\n",
    "    Generate a simple plot of the test and training learning curve.\n",
    "\n",
    "    Parameters\n",
    "    ----------\n",
    "    estimator : object type that implements the \"fit\" and \"predict\" methods\n",
    "        An object of that type which is cloned for each validation.\n",
    "\n",
    "    title : string\n",
    "        Title for the chart.\n",
    "\n",
    "    X : array-like, shape (n_samples, n_features)\n",
    "        Training vector, where n_samples is the number of samples and\n",
    "        n_features is the number of features.\n",
    "\n",
    "    y : array-like, shape (n_samples) or (n_samples, n_features), optional\n",
    "        Target relative to X for classification or regression;\n",
    "        None for unsupervised learning.\n",
    "\n",
    "    ylim : tuple, shape (ymin, ymax), optional\n",
    "        Defines minimum and maximum yvalues plotted.\n",
    "\n",
    "    cv : int, cross-validation generator or an iterable, optional\n",
    "        Determines the cross-validation splitting strategy.\n",
    "        Possible inputs for cv are:\n",
    "          - None, to use the default 3-fold cross-validation,\n",
    "          - integer, to specify the number of folds.\n",
    "          - An object to be used as a cross-validation generator.\n",
    "          - An iterable yielding train/test splits.\n",
    "\n",
    "        For integer/None inputs, if ``y`` is binary or multiclass,\n",
    "        :class:`StratifiedKFold` used. If the estimator is not a classifier\n",
    "        or if ``y`` is neither binary nor multiclass, :class:`KFold` is used.\n",
    "\n",
    "        Refer :ref:`User Guide <cross_validation>` for the various\n",
    "        cross-validators that can be used here.\n",
    "\n",
    "    n_jobs : integer, optional\n",
    "        Number of jobs to run in parallel (default 1).\n",
    "    \"\"\"\n",
    "    plt.figure()\n",
    "    plt.title(title)\n",
    "    if ylim is not None:\n",
    "        plt.ylim(*ylim)\n",
    "    plt.xlabel(\"Training examples\")\n",
    "    plt.ylabel(\"Score\")\n",
    "    train_sizes, train_scores, test_scores = learning_curve(\n",
    "        estimator, X, y, cv=cv, n_jobs=n_jobs, train_sizes=train_sizes)\n",
    "    train_scores_mean = np.mean(train_scores, axis=1)\n",
    "    train_scores_std = np.std(train_scores, axis=1)\n",
    "    test_scores_mean = np.mean(test_scores, axis=1)\n",
    "    test_scores_std = np.std(test_scores, axis=1)\n",
    "    plt.grid()\n",
    "\n",
    "    plt.fill_between(train_sizes, train_scores_mean - train_scores_std,\n",
    "                     train_scores_mean + train_scores_std, alpha=0.1,\n",
    "                     color=\"r\")\n",
    "    plt.fill_between(train_sizes, test_scores_mean - test_scores_std,\n",
    "                     test_scores_mean + test_scores_std, alpha=0.1, color=\"g\")\n",
    "    plt.plot(train_sizes, train_scores_mean, 'o-', color=\"r\",\n",
    "             label=\"Training score\")\n",
    "    plt.plot(train_sizes, test_scores_mean, 'o-', color=\"g\",\n",
    "             label=\"Cross-validation score\")\n",
    "\n",
    "    plt.legend(loc=\"best\")\n",
    "    return plt\n"
   ]
  },
  {
   "cell_type": "code",
   "execution_count": 44,
   "metadata": {
    "collapsed": false,
    "scrolled": false
   },
   "outputs": [
    {
     "name": "stdout",
     "output_type": "stream",
     "text": [
      "Accuracy : 81.433%\n",
      "Cross-Validation Score : 81.112%\n"
     ]
    }
   ],
   "source": [
    "# The best is .77778\n",
    "lr_model = LogisticRegression(C=0.2)\n",
    "classification_model(lr_model, X, y)"
   ]
  },
  {
   "cell_type": "code",
   "execution_count": 45,
   "metadata": {
    "collapsed": false
   },
   "outputs": [],
   "source": [
    "#from sklearn.model_selection import validation_curve\n",
    "\n",
    "#train_scores, valid_scores = validation_curve(lr_model, X, y, \"C\", np.logspace(-7, 3, 3), scoring=\"roc_auc\")\n"
   ]
  },
  {
   "cell_type": "code",
   "execution_count": 46,
   "metadata": {
    "collapsed": false
   },
   "outputs": [
    {
     "data": {
      "text/plain": [
       "<module 'matplotlib.pyplot' from '/Users/mingyuzhu/git/venv/lib/python2.7/site-packages/matplotlib/pyplot.pyc'>"
      ]
     },
     "execution_count": 46,
     "metadata": {},
     "output_type": "execute_result"
    },
    {
     "data": {
      "image/png": "[encoded data removed]",
      "text/plain": [
       "<matplotlib.figure.Figure at 0x113057910>"
      ]
     },
     "metadata": {},
     "output_type": "display_data"
    }
   ],
   "source": [
    "plot_learning_curve(lr_model, \"lr_model\", X, y, ylim=(0.7, 1.01), cv=3, n_jobs=4)"
   ]
  },
  {
   "cell_type": "code",
   "execution_count": 47,
   "metadata": {
    "collapsed": false,
    "scrolled": true
   },
   "outputs": [
    {
     "name": "stdout",
     "output_type": "stream",
     "text": [
      "Accuracy : 80.945%\n",
      "Cross-Validation Score : 80.946%\n",
      "3\n"
     ]
    }
   ],
   "source": [
    "dt_model = DecisionTreeClassifier(max_depth=1)\n",
    "classification_model(dt_model, X,y)\n",
    "print dt_model.tree_.node_count"
   ]
  },
  {
   "cell_type": "code",
   "execution_count": 48,
   "metadata": {
    "collapsed": false
   },
   "outputs": [
    {
     "data": {
      "text/plain": [
       "<module 'matplotlib.pyplot' from '/Users/mingyuzhu/git/venv/lib/python2.7/site-packages/matplotlib/pyplot.pyc'>"
      ]
     },
     "execution_count": 48,
     "metadata": {},
     "output_type": "execute_result"
    },
    {
     "data": {
      "image/png": "[encoded data removed]",
      "text/plain": [
       "<matplotlib.figure.Figure at 0x115186510>"
      ]
     },
     "metadata": {},
     "output_type": "display_data"
    }
   ],
   "source": [
    "plot_learning_curve(dt_model, \"dt_model\", X, y, ylim=(0.7, 1.01), cv=3, n_jobs=4)"
   ]
  },
  {
   "cell_type": "code",
   "execution_count": 49,
   "metadata": {
    "collapsed": false
   },
   "outputs": [
    {
     "name": "stdout",
     "output_type": "stream",
     "text": [
      "Accuracy : 81.596%\n",
      "Cross-Validation Score : 80.458%\n"
     ]
    }
   ],
   "source": [
    "rf_model = RandomForestClassifier(n_estimators=100, max_depth=3,min_samples_split=5,min_samples_leaf=1)\n",
    "classification_model(rf_model, X,y)\n",
    "# best score = .791666667.  100,3,5,1"
   ]
  },
  {
   "cell_type": "code",
   "execution_count": 50,
   "metadata": {
    "collapsed": false,
    "scrolled": true
   },
   "outputs": [
    {
     "data": {
      "text/plain": [
       "<module 'matplotlib.pyplot' from '/Users/mingyuzhu/git/venv/lib/python2.7/site-packages/matplotlib/pyplot.pyc'>"
      ]
     },
     "execution_count": 50,
     "metadata": {},
     "output_type": "execute_result"
    },
    {
     "data": {
      "image/png": "[encoded data removed]",
      "text/plain": [
       "<matplotlib.figure.Figure at 0x115c5a350>"
      ]
     },
     "metadata": {},
     "output_type": "display_data"
    }
   ],
   "source": [
    "plot_learning_curve(rf_model, \"random forest\", X, y, ylim=(0.7, 1.01), cv=3, n_jobs=4)"
   ]
  },
  {
   "cell_type": "code",
   "execution_count": 52,
   "metadata": {
    "collapsed": false
   },
   "outputs": [
    {
     "data": {
      "image/png": "[encoded data removed]",
      "text/plain": [
       "<matplotlib.figure.Figure at 0x115ee8e90>"
      ]
     },
     "metadata": {},
     "output_type": "display_data"
    }
   ],
   "source": [
    "# emsemble\n",
    "from sklearn.ensemble import VotingClassifier\n",
    "\n",
    "# This only works if X has two features.\n",
    "def plot_decision_boundary(X,y):\n",
    "    from itertools import product\n",
    "\n",
    "    # Training classifiers\n",
    "    clf1 = LogisticRegression(C=0.2)\n",
    "    clf2 = DecisionTreeClassifier(max_depth=1)\n",
    "    clf3 = RandomForestClassifier(n_estimators=100, max_depth=3,min_samples_split=5,min_samples_leaf=1)\n",
    "    eclf = VotingClassifier(estimators=[('lr', clf1), ('dt', clf2),\n",
    "                                        ('rf', clf3)],\n",
    "                            voting='soft', weights=[2, 1, 2])\n",
    "\n",
    "    clf1.fit(X, y)\n",
    "    clf2.fit(X, y)\n",
    "    clf3.fit(X, y)\n",
    "    eclf.fit(X, y)\n",
    "\n",
    "    # Plotting decision regions\n",
    "    x_min, x_max = X[:, 0].min() - 1, X[:, 0].max() + 1\n",
    "    y_min, y_max = X[:, 1].min() - 1, X[:, 1].max() + 1\n",
    "    xx, yy = np.meshgrid(np.arange(x_min, x_max, 0.1),\n",
    "                         np.arange(y_min, y_max, 0.1))\n",
    "\n",
    "    f, axarr = plt.subplots(2, 2, sharex='col', sharey='row', figsize=(10, 8))\n",
    "\n",
    "    for idx, clf, tt in zip(product([0, 1], [0, 1]),\n",
    "                            [clf1, clf2, clf3, eclf],\n",
    "                            ['Linear Regression', 'Decision Tree',\n",
    "                             'Random Forest', 'Soft Voting']):\n",
    "\n",
    "        # expect 24 features but got 2\n",
    "        Z = clf.predict(np.c_[xx.ravel(), yy.ravel()])\n",
    "        Z = Z.reshape(xx.shape)\n",
    "\n",
    "        axarr[idx[0], idx[1]].contourf(xx, yy, Z, alpha=0.4)\n",
    "        axarr[idx[0], idx[1]].scatter(X[:, 0], X[:, 1], c=y, alpha=0.8)\n",
    "        axarr[idx[0], idx[1]].set_title(tt)\n",
    "\n",
    "\n",
    "plot_decision_boundary(X[:,2:4],y)       "
   ]
  },
  {
   "cell_type": "code",
   "execution_count": 53,
   "metadata": {
    "collapsed": false
   },
   "outputs": [
    {
     "name": "stdout",
     "output_type": "stream",
     "text": [
      "[0]\ttrain-auc:0.779176\ttest-auc:0.725445\n",
      "Multiple eval metrics have been passed: 'test-auc' will be used for early stopping.\n",
      "\n",
      "Will train until test-auc hasn't improved in 10 rounds.\n",
      "[1]\ttrain-auc:0.82702\ttest-auc:0.698172\n",
      "[2]\ttrain-auc:0.845902\ttest-auc:0.715949\n",
      "[3]\ttrain-auc:0.860618\ttest-auc:0.727977\n",
      "[4]\ttrain-auc:0.876526\ttest-auc:0.738879\n",
      "[5]\ttrain-auc:0.881209\ttest-auc:0.745864\n",
      "[6]\ttrain-auc:0.886181\ttest-auc:0.75178\n",
      "[7]\ttrain-auc:0.889452\ttest-auc:0.755918\n",
      "[8]\ttrain-auc:0.893816\ttest-auc:0.759218\n",
      "[9]\ttrain-auc:0.898134\ttest-auc:0.76105\n",
      "[10]\ttrain-auc:0.900719\ttest-auc:0.764256\n",
      "[11]\ttrain-auc:0.90436\ttest-auc:0.768933\n",
      "[12]\ttrain-auc:0.906309\ttest-auc:0.773445\n",
      "[13]\ttrain-auc:0.907727\ttest-auc:0.773971\n",
      "[14]\ttrain-auc:0.910238\ttest-auc:0.769962\n",
      "[15]\ttrain-auc:0.912164\ttest-auc:0.769619\n",
      "[16]\ttrain-auc:0.91533\ttest-auc:0.766026\n",
      "[17]\ttrain-auc:0.915596\ttest-auc:0.766655\n",
      "[18]\ttrain-auc:0.919971\ttest-auc:0.766022\n",
      "[19]\ttrain-auc:0.921697\ttest-auc:0.766228\n",
      "[20]\ttrain-auc:0.921159\ttest-auc:0.766713\n",
      "[21]\ttrain-auc:0.923734\ttest-auc:0.766006\n",
      "[22]\ttrain-auc:0.926058\ttest-auc:0.764397\n",
      "[23]\ttrain-auc:0.926621\ttest-auc:0.764101\n",
      "Stopping. Best iteration:\n",
      "[13]\ttrain-auc:0.907727+0.0125207\ttest-auc:0.773971+0.0348146\n",
      "\n"
     ]
    },
    {
     "name": "stderr",
     "output_type": "stream",
     "text": [
      "/Users/mingyuzhu/git/venv/lib/python2.7/site-packages/sklearn/grid_search.py:43: DeprecationWarning: This module was deprecated in version 0.18 in favor of the model_selection module into which all the refactored classes and functions are moved. This module will be removed in 0.20.\n",
      "  DeprecationWarning)\n"
     ]
    },
    {
     "name": "stdout",
     "output_type": "stream",
     "text": [
      "\n",
      "Model Report\n",
      "Accuracy : 0.8322\n",
      "AUC Score (Train): 0.876401\n",
      "[0]\ttrain-auc:0.808057\ttest-auc:0.741464\n",
      "Multiple eval metrics have been passed: 'test-auc' will be used for early stopping.\n",
      "\n",
      "Will train until test-auc hasn't improved in 10 rounds.\n",
      "[1]\ttrain-auc:0.829511\ttest-auc:0.742483\n",
      "[2]\ttrain-auc:0.85379\ttest-auc:0.735019\n",
      "[3]\ttrain-auc:0.860971\ttest-auc:0.732046\n",
      "[4]\ttrain-auc:0.868808\ttest-auc:0.727421\n",
      "[5]\ttrain-auc:0.874161\ttest-auc:0.736977\n",
      "[6]\ttrain-auc:0.883703\ttest-auc:0.733701\n",
      "[7]\ttrain-auc:0.886585\ttest-auc:0.734507\n",
      "[8]\ttrain-auc:0.891285\ttest-auc:0.738099\n",
      "[9]\ttrain-auc:0.894285\ttest-auc:0.740788\n",
      "[10]\ttrain-auc:0.896284\ttest-auc:0.74325\n",
      "[11]\ttrain-auc:0.898955\ttest-auc:0.751096\n",
      "[12]\ttrain-auc:0.901005\ttest-auc:0.753857\n",
      "[13]\ttrain-auc:0.904799\ttest-auc:0.762181\n",
      "\n",
      "Model Report\n",
      "Accuracy : 0.8274\n",
      "AUC Score (Train): 0.884571\n"
     ]
    },
    {
     "data": {
      "image/png": "[encoded data removed]",
      "text/plain": [
       "<matplotlib.figure.Figure at 0x115c97650>"
      ]
     },
     "metadata": {},
     "output_type": "display_data"
    }
   ],
   "source": [
    "import xgboost as xgb\n",
    "from xgboost.sklearn import XGBClassifier\n",
    "from sklearn import cross_validation, metrics   #Additional scklearn functions\n",
    "from sklearn.grid_search import GridSearchCV   #Perforing grid search\n",
    "from sklearn.cross_validation import train_test_split\n",
    "\n",
    "def modelfit(alg, X, y, useTrainCV=True, cv_folds=5, early_stopping_rounds=10):\n",
    "    if useTrainCV:\n",
    "        xgb_param = alg.get_xgb_params()\n",
    "        dtrain = xgb.DMatrix(X,label=y)\n",
    "        cvresult = xgb.cv(xgb_param,\n",
    "                          dtrain,\n",
    "                          num_boost_round=alg.get_params()['n_estimators'],\n",
    "                          nfold=cv_folds,\n",
    "                          metrics='auc',\n",
    "                          callbacks=[xgb.callback.print_evaluation(show_stdv=False),\n",
    "                                     xgb.callback.early_stop(early_stopping_rounds)]\n",
    "                         )\n",
    "        \n",
    "        alg.set_params(n_estimators=cvresult.shape[0])\n",
    "    \n",
    "    #Fit the algorithm on the data\n",
    "    alg.fit(X, y,eval_metric='auc')\n",
    "        \n",
    "    #Predict training set:\n",
    "    dtrain_predictions = alg.predict(X)\n",
    "    dtrain_predprob = alg.predict_proba(X)[:,1]\n",
    "        \n",
    "    #Print model report:\n",
    "    print \"\\nModel Report\"\n",
    "    print \"Accuracy : %.4g\" % metrics.accuracy_score(y.values, dtrain_predictions)\n",
    "    print \"AUC Score (Train): %f\" % metrics.roc_auc_score(y, dtrain_predprob)\n",
    "                    \n",
    "    feat_imp = pd.Series(alg.booster().get_fscore()).sort_values(ascending=False)\n",
    "    feat_imp.plot(kind='bar', title='Feature Importances')\n",
    "    plt.ylabel('Feature Importance Score')\n",
    "\n",
    "xgb1 = XGBClassifier(\n",
    " learning_rate =0.1,\n",
    " n_estimators=1000,\n",
    " max_depth=4,\n",
    " min_child_weight=2,\n",
    " gamma=0,\n",
    " subsample=0.75,\n",
    " colsample_bytree=0.6,\n",
    " reg_alpha = .01,\n",
    " reg_lambda = .01,\n",
    " objective= 'binary:logistic',\n",
    " nthread=4,\n",
    " scale_pos_weight=1,\n",
    " seed=555)\n",
    "modelfit(xgb1, df[predictor_var], df[outcome_var])\n",
    "\n",
    "\n",
    "#X_train, X_val, y_train, y_val = train_test_split(X, y, test_size = 0.1, random_state=42)\n",
    "modelfit(xgb1, X, y)"
   ]
  },
  {
   "cell_type": "code",
   "execution_count": 54,
   "metadata": {
    "collapsed": false,
    "scrolled": true
   },
   "outputs": [
    {
     "data": {
      "text/plain": [
       "<module 'matplotlib.pyplot' from '/Users/mingyuzhu/git/venv/lib/python2.7/site-packages/matplotlib/pyplot.pyc'>"
      ]
     },
     "execution_count": 54,
     "metadata": {},
     "output_type": "execute_result"
    },
    {
     "data": {
      "image/png": "[encoded data removed]",
      "text/plain": [
       "<matplotlib.figure.Figure at 0x115dca950>"
      ]
     },
     "metadata": {},
     "output_type": "display_data"
    }
   ],
   "source": [
    "plot_learning_curve(xgb1, \"xgboost\", X, y, ylim=(0.6, 1.01), cv=3)"
   ]
  },
  {
   "cell_type": "code",
   "execution_count": 55,
   "metadata": {
    "collapsed": false
   },
   "outputs": [
    {
     "name": "stdout",
     "output_type": "stream",
     "text": [
      "Loan_ID               0\n",
      "Gender               11\n",
      "Married               0\n",
      "Dependents           10\n",
      "Education             0\n",
      "Self_Employed        23\n",
      "ApplicantIncome       0\n",
      "CoapplicantIncome     0\n",
      "LoanAmount            5\n",
      "Loan_Amount_Term      6\n",
      "Credit_History       29\n",
      "Property_Area         0\n",
      "dtype: int64\n"
     ]
    }
   ],
   "source": [
    "# Now we have the model trained. Let's process the test data and predict\n",
    "\n",
    "print test_df.apply(lambda x:sum(x.isnull()), axis=0)\n",
    "\n",
    "# FE-1\n",
    "test_df['Self_Employed'].fillna('No',inplace=True)\n",
    "\n",
    "# FE-2\n",
    "table = test_df.pivot_table(values='LoanAmount', \n",
    "                       index='Self_Employed',\n",
    "                       columns='Education', # columns are categorical values of Education\n",
    "                       aggfunc=np.median)\n",
    "test_df['LoanAmount'].fillna(test_df[test_df['LoanAmount'].isnull()].apply(fage, axis=1), inplace=True)\n",
    "\n",
    "# FE-3 Now let's treat missing values in gender\n",
    "test_df['BreadWinner']=test_df['ApplicantIncome']>test_df['CoapplicantIncome']\n",
    "test_df.loc[(test_df['BreadWinner']) & (test_df['Gender'].isnull()),'Gender'] = 'Male'\n",
    "test_df['Gender'].fillna('Female', inplace=True)\n",
    "\n",
    "# FE-4a Dependents\n",
    "test_df['Dependents'] = test_df['Dependents'].apply(lambda x: int(x.replace('+','')) if pd.notnull(x) else None)\n",
    "# FE-4b\n",
    "test_df.loc[(test_df['Dependents'].isnull()) & (test_df['Married']=='No'),'Dependents'] = 0\n",
    "test_df['Dependents'].fillna(1, inplace = True)\n",
    "# FE-4c create another feature HasDependents\n",
    "test_df['hasDependents'] = test_df['Dependents']>0\n",
    "\n",
    "# FE-5a Married\n",
    "test_df['DoubleIncome'] = test_df['CoapplicantIncome']>0\n",
    "test_df.loc[(test_df['Married'].isnull()) & (test_df['DoubleIncome']), 'Married'] = 'Yes'\n",
    "test_df['Married'].fillna('No', inplace=True)\n",
    "\n",
    "# FE-6 Loan Amount Term\n",
    "test_df['LargeLoan'] = test_df['LoanAmount']>test_df['LoanAmount'].median()\n",
    "test_df['Loan_Amount_Term'].fillna(360.0, inplace = True)\n",
    "\n",
    "# FE-7\n",
    "test_df['Credit_History'].fillna(1,inplace = True)\n",
    "\n",
    "# FE-8\n",
    "test_df['LoanAmount_log'] = np.log(test_df['LoanAmount'])\n",
    "\n",
    "# FE-9\n",
    "test_df['TotalIncome'] = test_df['ApplicantIncome'] + test_df['CoapplicantIncome']\n",
    "test_df['TotalIncome_log'] = np.log(test_df['TotalIncome'])\n",
    "\n",
    "# FE-10\n",
    "test_df['DebitRatio'] = (test_df['LoanAmount']/test_df['TotalIncome']).apply(lambda x:math.sqrt(x))"
   ]
  },
  {
   "cell_type": "code",
   "execution_count": 56,
   "metadata": {
    "collapsed": false
   },
   "outputs": [
    {
     "data": {
      "text/plain": [
       "Loan_ID              0\n",
       "Gender               0\n",
       "Married              0\n",
       "Dependents           0\n",
       "Education            0\n",
       "Self_Employed        0\n",
       "ApplicantIncome      0\n",
       "CoapplicantIncome    0\n",
       "LoanAmount           0\n",
       "Loan_Amount_Term     0\n",
       "Credit_History       0\n",
       "Property_Area        0\n",
       "BreadWinner          0\n",
       "hasDependents        0\n",
       "DoubleIncome         0\n",
       "LargeLoan            0\n",
       "LoanAmount_log       0\n",
       "TotalIncome          0\n",
       "TotalIncome_log      0\n",
       "DebitRatio           0\n",
       "dtype: int64"
      ]
     },
     "execution_count": 56,
     "metadata": {},
     "output_type": "execute_result"
    }
   ],
   "source": [
    "test_df.apply(lambda x: x.isnull().sum()) "
   ]
  },
  {
   "cell_type": "code",
   "execution_count": 57,
   "metadata": {
    "collapsed": false
   },
   "outputs": [],
   "source": [
    "# Label Encoding\n",
    "var_mod.remove('Loan_Status')\n",
    "for i in var_mod:\n",
    "    test_df[i] = le.fit_transform(test_df[i]) "
   ]
  },
  {
   "cell_type": "code",
   "execution_count": 58,
   "metadata": {
    "collapsed": true
   },
   "outputs": [],
   "source": [
    "# normal matrix\n",
    "#X_test=test_df[predictor_var]"
   ]
  },
  {
   "cell_type": "code",
   "execution_count": 59,
   "metadata": {
    "collapsed": false
   },
   "outputs": [
    {
     "data": {
      "text/plain": [
       "((367, 30), (367, 21), (367, 9))"
      ]
     },
     "execution_count": 59,
     "metadata": {},
     "output_type": "execute_result"
    }
   ],
   "source": [
    "# sparse matrix\n",
    "# note here use transform, not fit_tranform\n",
    "X_test_cat_sparse = ohe.transform(test_df[categorical])\n",
    "X_test_non_cat = sc.transform(test_df[non_categorical])\n",
    "X_test = hstack((X_test_non_cat, X_test_cat_sparse))\n",
    "X_test.shape, X_test_cat_sparse.shape, X_test_non_cat.shape"
   ]
  },
  {
   "cell_type": "code",
   "execution_count": 60,
   "metadata": {
    "collapsed": false,
    "scrolled": true
   },
   "outputs": [
    {
     "name": "stdout",
     "output_type": "stream",
     "text": [
      "Accuracy : 81.270%\n",
      "Cross-Validation Score : 80.946%\n"
     ]
    }
   ],
   "source": [
    "\n",
    "eclf = VotingClassifier(estimators=[ ('xgb', xgb1), ('dt', dt_model),('rf', rf_model)],\n",
    "                        voting='soft',weights=[1,1,1])\n",
    "classification_model(eclf, X, y)"
   ]
  },
  {
   "cell_type": "code",
   "execution_count": 61,
   "metadata": {
    "collapsed": false
   },
   "outputs": [
    {
     "data": {
      "text/plain": [
       "<module 'matplotlib.pyplot' from '/Users/mingyuzhu/git/venv/lib/python2.7/site-packages/matplotlib/pyplot.pyc'>"
      ]
     },
     "execution_count": 61,
     "metadata": {},
     "output_type": "execute_result"
    },
    {
     "data": {
      "image/png": "[encoded data removed]",
      "text/plain": [
       "<matplotlib.figure.Figure at 0x115dcaa90>"
      ]
     },
     "metadata": {},
     "output_type": "display_data"
    }
   ],
   "source": [
    "plot_learning_curve(eclf, \"ensemble\", X, y, ylim=(0.7, 1.01), cv=3)"
   ]
  },
  {
   "cell_type": "code",
   "execution_count": 62,
   "metadata": {
    "collapsed": false
   },
   "outputs": [],
   "source": [
    "model = eclf"
   ]
  },
  {
   "cell_type": "code",
   "execution_count": 63,
   "metadata": {
    "collapsed": false
   },
   "outputs": [],
   "source": [
    "predictions = model.predict(X_test)\n",
    "output = pd.DataFrame({ 'Loan_ID' : test_df['Loan_ID'], 'Loan_Status': pd.Series(predictions).map({1:'Y',0:'N'}) })\n",
    "output.head()\n",
    "output.to_csv('./submissions/21.csv', index = False)"
   ]
  },
  {
   "cell_type": "code",
   "execution_count": null,
   "metadata": {
    "collapsed": true
   },
   "outputs": [],
   "source": []
  }
 ],
 "metadata": {
  "kernelspec": {
   "display_name": "Python 2",
   "language": "python",
   "name": "python2"
  },
  "language_info": {
   "codemirror_mode": {
    "name": "ipython",
    "version": 2
   },
   "file_extension": ".py",
   "mimetype": "text/x-python",
   "name": "python",
   "nbconvert_exporter": "python",
   "pygments_lexer": "ipython2",
   "version": "2.7.10"
  }
 },
 "nbformat": 4,
 "nbformat_minor": 1
}
